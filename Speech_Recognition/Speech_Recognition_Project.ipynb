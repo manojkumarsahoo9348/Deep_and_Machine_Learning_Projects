{
 "cells": [
  {
   "cell_type": "markdown",
   "id": "cc886a70-f45b-48e1-87be-f831815bfabc",
   "metadata": {},
   "source": [
    "**Speech Recognition using Python**"
   ]
  },
  {
   "cell_type": "code",
   "execution_count": 1,
   "id": "4abfdd87-c60c-45e4-822f-7d18987b8a0f",
   "metadata": {},
   "outputs": [],
   "source": [
    "import speech_recognition as sr\n",
    "import pyttsx3 as pt\n",
    "import pywhatkit as pk"
   ]
  },
  {
   "cell_type": "code",
   "execution_count": 2,
   "id": "de5fed8c-de19-4fab-a3c1-44d9735cf859",
   "metadata": {},
   "outputs": [],
   "source": [
    "listening = sr.Recognizer()\n",
    "engine = pt.init('dummy')"
   ]
  },
  {
   "cell_type": "code",
   "execution_count": null,
   "id": "a4e7e283-8a5a-4ebf-b4df-e7cce1d5e299",
   "metadata": {},
   "outputs": [],
   "source": []
  }
 ],
 "metadata": {
  "kernelspec": {
   "display_name": "Python 3 (ipykernel)",
   "language": "python",
   "name": "python3"
  },
  "language_info": {
   "codemirror_mode": {
    "name": "ipython",
    "version": 3
   },
   "file_extension": ".py",
   "mimetype": "text/x-python",
   "name": "python",
   "nbconvert_exporter": "python",
   "pygments_lexer": "ipython3",
   "version": "3.10.13"
  }
 },
 "nbformat": 4,
 "nbformat_minor": 5
}
